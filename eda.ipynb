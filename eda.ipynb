{
 "metadata": {
  "language_info": {
   "codemirror_mode": {
    "name": "ipython",
    "version": 3
   },
   "file_extension": ".py",
   "mimetype": "text/x-python",
   "name": "python",
   "nbconvert_exporter": "python",
   "pygments_lexer": "ipython3",
   "version": "3.8.5-final"
  },
  "orig_nbformat": 2,
  "kernelspec": {
   "name": "Python 3.8.5 64-bit ('venv': venv)",
   "display_name": "Python 3.8.5 64-bit ('venv': venv)",
   "metadata": {
    "interpreter": {
     "hash": "05b5d38e1c5d1514a7f53b232d94249aeffc41b6cebe6bec71c7696c61f390c4"
    }
   }
  }
 },
 "nbformat": 4,
 "nbformat_minor": 2,
 "cells": [
  {
   "cell_type": "code",
   "execution_count": 1,
   "metadata": {},
   "outputs": [],
   "source": [
    "import pandas as pd"
   ]
  },
  {
   "cell_type": "code",
   "execution_count": 2,
   "metadata": {},
   "outputs": [],
   "source": [
    "df = pd.read_sql_table('Houston_Realtors', 'sqlite:///houston_realtors.db', index_col='index')"
   ]
  },
  {
   "cell_type": "code",
   "execution_count": 3,
   "metadata": {},
   "outputs": [
    {
     "output_type": "execute_result",
     "data": {
      "text/plain": [
       "      License_Type License_Number                 Full_Name Suffix  \\\n",
       "index                                                                \n",
       "12            SALE         646075    Scott Alan Butterfield   None   \n",
       "19            SALE         649662  Fannet Kavalerchik Nater   None   \n",
       "27            SALE         657917      Cristina Ann Sanchez   None   \n",
       "30            SALE         650819   Casey Fitzgerald Wright   None   \n",
       "40            SALE         644517          Frederick Heller   None   \n",
       "\n",
       "       License_Status  Original_License_Date  License Expiration_Date  \\\n",
       "index                                                                   \n",
       "12                 21             20140918.0               20220930.0   \n",
       "19                 45             20141216.0               20161231.0   \n",
       "27                 20             20150707.0               20210731.0   \n",
       "30                 45             20150121.0               20170131.0   \n",
       "40                 45             20140807.0               20180831.0   \n",
       "\n",
       "       Education_Status  MCE_Status  Designated_Supervisor_Flag  ...  \\\n",
       "index                                                            ...   \n",
       "12                    0           1                           0  ...   \n",
       "19                    1           0                           0  ...   \n",
       "27                    0           1                           0  ...   \n",
       "30                    1           0                           0  ...   \n",
       "40                    0           1                           0  ...   \n",
       "\n",
       "      Physical_Address_City Physical_Address_State_Code  \\\n",
       "index                                                     \n",
       "12                     None                        None   \n",
       "19                     None                        None   \n",
       "27                     None                        None   \n",
       "30                     None                        None   \n",
       "40                     None                        None   \n",
       "\n",
       "      Physical_Address_Zip_Code Physical_Address_County_Code  \\\n",
       "index                                                          \n",
       "12                         None                          NaN   \n",
       "19                         None                          NaN   \n",
       "27                         None                          NaN   \n",
       "30                         None                          NaN   \n",
       "40                         None                          NaN   \n",
       "\n",
       "      Related_License_Type Related_License_Number Related_License_Full_Name  \\\n",
       "index                                                                         \n",
       "12                    None                    NaN                      None   \n",
       "19                    None                    NaN                      None   \n",
       "27                    BLLC              9001507.0                      None   \n",
       "30                    None                    NaN                      None   \n",
       "40                    None                    NaN                      None   \n",
       "\n",
       "      Related_License_Suffix  Related_License_Start_Date Agency_Identifier  \n",
       "index                                                                       \n",
       "12                      None                         NaN      1.000000e+09  \n",
       "19                      None                         NaN      1.000000e+09  \n",
       "27                      None                  20170721.0      1.000000e+09  \n",
       "30                      None                         NaN      1.000000e+09  \n",
       "40                      None                         NaN      1.000000e+09  \n",
       "\n",
       "[5 rows x 32 columns]"
      ],
      "text/html": "<div>\n<style scoped>\n    .dataframe tbody tr th:only-of-type {\n        vertical-align: middle;\n    }\n\n    .dataframe tbody tr th {\n        vertical-align: top;\n    }\n\n    .dataframe thead th {\n        text-align: right;\n    }\n</style>\n<table border=\"1\" class=\"dataframe\">\n  <thead>\n    <tr style=\"text-align: right;\">\n      <th></th>\n      <th>License_Type</th>\n      <th>License_Number</th>\n      <th>Full_Name</th>\n      <th>Suffix</th>\n      <th>License_Status</th>\n      <th>Original_License_Date</th>\n      <th>License Expiration_Date</th>\n      <th>Education_Status</th>\n      <th>MCE_Status</th>\n      <th>Designated_Supervisor_Flag</th>\n      <th>...</th>\n      <th>Physical_Address_City</th>\n      <th>Physical_Address_State_Code</th>\n      <th>Physical_Address_Zip_Code</th>\n      <th>Physical_Address_County_Code</th>\n      <th>Related_License_Type</th>\n      <th>Related_License_Number</th>\n      <th>Related_License_Full_Name</th>\n      <th>Related_License_Suffix</th>\n      <th>Related_License_Start_Date</th>\n      <th>Agency_Identifier</th>\n    </tr>\n    <tr>\n      <th>index</th>\n      <th></th>\n      <th></th>\n      <th></th>\n      <th></th>\n      <th></th>\n      <th></th>\n      <th></th>\n      <th></th>\n      <th></th>\n      <th></th>\n      <th></th>\n      <th></th>\n      <th></th>\n      <th></th>\n      <th></th>\n      <th></th>\n      <th></th>\n      <th></th>\n      <th></th>\n      <th></th>\n      <th></th>\n    </tr>\n  </thead>\n  <tbody>\n    <tr>\n      <th>12</th>\n      <td>SALE</td>\n      <td>646075</td>\n      <td>Scott Alan Butterfield</td>\n      <td>None</td>\n      <td>21</td>\n      <td>20140918.0</td>\n      <td>20220930.0</td>\n      <td>0</td>\n      <td>1</td>\n      <td>0</td>\n      <td>...</td>\n      <td>None</td>\n      <td>None</td>\n      <td>None</td>\n      <td>NaN</td>\n      <td>None</td>\n      <td>NaN</td>\n      <td>None</td>\n      <td>None</td>\n      <td>NaN</td>\n      <td>1.000000e+09</td>\n    </tr>\n    <tr>\n      <th>19</th>\n      <td>SALE</td>\n      <td>649662</td>\n      <td>Fannet Kavalerchik Nater</td>\n      <td>None</td>\n      <td>45</td>\n      <td>20141216.0</td>\n      <td>20161231.0</td>\n      <td>1</td>\n      <td>0</td>\n      <td>0</td>\n      <td>...</td>\n      <td>None</td>\n      <td>None</td>\n      <td>None</td>\n      <td>NaN</td>\n      <td>None</td>\n      <td>NaN</td>\n      <td>None</td>\n      <td>None</td>\n      <td>NaN</td>\n      <td>1.000000e+09</td>\n    </tr>\n    <tr>\n      <th>27</th>\n      <td>SALE</td>\n      <td>657917</td>\n      <td>Cristina Ann Sanchez</td>\n      <td>None</td>\n      <td>20</td>\n      <td>20150707.0</td>\n      <td>20210731.0</td>\n      <td>0</td>\n      <td>1</td>\n      <td>0</td>\n      <td>...</td>\n      <td>None</td>\n      <td>None</td>\n      <td>None</td>\n      <td>NaN</td>\n      <td>BLLC</td>\n      <td>9001507.0</td>\n      <td>None</td>\n      <td>None</td>\n      <td>20170721.0</td>\n      <td>1.000000e+09</td>\n    </tr>\n    <tr>\n      <th>30</th>\n      <td>SALE</td>\n      <td>650819</td>\n      <td>Casey Fitzgerald Wright</td>\n      <td>None</td>\n      <td>45</td>\n      <td>20150121.0</td>\n      <td>20170131.0</td>\n      <td>1</td>\n      <td>0</td>\n      <td>0</td>\n      <td>...</td>\n      <td>None</td>\n      <td>None</td>\n      <td>None</td>\n      <td>NaN</td>\n      <td>None</td>\n      <td>NaN</td>\n      <td>None</td>\n      <td>None</td>\n      <td>NaN</td>\n      <td>1.000000e+09</td>\n    </tr>\n    <tr>\n      <th>40</th>\n      <td>SALE</td>\n      <td>644517</td>\n      <td>Frederick Heller</td>\n      <td>None</td>\n      <td>45</td>\n      <td>20140807.0</td>\n      <td>20180831.0</td>\n      <td>0</td>\n      <td>1</td>\n      <td>0</td>\n      <td>...</td>\n      <td>None</td>\n      <td>None</td>\n      <td>None</td>\n      <td>NaN</td>\n      <td>None</td>\n      <td>NaN</td>\n      <td>None</td>\n      <td>None</td>\n      <td>NaN</td>\n      <td>1.000000e+09</td>\n    </tr>\n  </tbody>\n</table>\n<p>5 rows × 32 columns</p>\n</div>"
     },
     "metadata": {},
     "execution_count": 3
    }
   ],
   "source": [
    "df.head()"
   ]
  },
  {
   "cell_type": "code",
   "execution_count": 4,
   "metadata": {},
   "outputs": [
    {
     "output_type": "stream",
     "name": "stdout",
     "text": [
      "<class 'pandas.core.frame.DataFrame'>\nInt64Index: 30597 entries, 12 to 257548\nData columns (total 32 columns):\n #   Column                        Non-Null Count  Dtype  \n---  ------                        --------------  -----  \n 0   License_Type                  30597 non-null  object \n 1   License_Number                30597 non-null  object \n 2   Full_Name                     30597 non-null  object \n 3   Suffix                        1002 non-null   object \n 4   License_Status                30597 non-null  int64  \n 5   Original_License_Date         30594 non-null  float64\n 6   License Expiration_Date       30597 non-null  float64\n 7   Education_Status              30597 non-null  int64  \n 8   MCE_Status                    30597 non-null  int64  \n 9   Designated_Supervisor_Flag    30597 non-null  int64  \n 10  Phone_Number                  30592 non-null  object \n 11  Email_Address                 29759 non-null  object \n 12  Mailing_Address_Line_1        30597 non-null  object \n 13  Mailing_Address_Line_2        2901 non-null   object \n 14  Mailing_Address_Line_3        626 non-null    object \n 15  Mailing_Address_City          30597 non-null  object \n 16  Mailing_Address_State_Code    30596 non-null  object \n 17  Mailing_Address_Zip_Code      30597 non-null  object \n 18  Mailing_Address_County_Code   30597 non-null  int64  \n 19  Physical_Address_Line_1       12617 non-null  object \n 20  Physical_Address_Line_2       1960 non-null   object \n 21  Physical_Address_Line_3       163 non-null    object \n 22  Physical_Address_City         12614 non-null  object \n 23  Physical_Address_State_Code   12612 non-null  object \n 24  Physical_Address_Zip_Code     12616 non-null  object \n 25  Physical_Address_County_Code  12621 non-null  float64\n 26  Related_License_Type          16449 non-null  object \n 27  Related_License_Number        16449 non-null  float64\n 28  Related_License_Full_Name     2699 non-null   object \n 29  Related_License_Suffix        264 non-null    object \n 30  Related_License_Start_Date    15623 non-null  float64\n 31  Agency_Identifier             30597 non-null  float64\ndtypes: float64(6), int64(5), object(21)\nmemory usage: 7.7+ MB\n"
     ]
    }
   ],
   "source": [
    "df.info()"
   ]
  },
  {
   "cell_type": "code",
   "execution_count": 5,
   "metadata": {},
   "outputs": [
    {
     "output_type": "execute_result",
     "data": {
      "text/plain": [
       "       License_Status  Original_License_Date  License Expiration_Date  \\\n",
       "count    30597.000000           3.059400e+04             3.059700e+04   \n",
       "mean        25.544792           2.007608e+07             2.020663e+07   \n",
       "std         10.367196           1.071628e+05             1.613059e+04   \n",
       "min         20.000000           1.957010e+07             2.011023e+07   \n",
       "25%         20.000000           2.001102e+07             2.020113e+07   \n",
       "50%         20.000000           2.011081e+07             2.021073e+07   \n",
       "75%         21.000000           2.016112e+07             2.022033e+07   \n",
       "max         80.000000           2.020101e+07             2.024063e+07   \n",
       "\n",
       "       Education_Status    MCE_Status  Designated_Supervisor_Flag  \\\n",
       "count      30597.000000  30597.000000                30597.000000   \n",
       "mean           0.223192      0.740824                    0.009968   \n",
       "std            0.428692      0.503249                    0.099344   \n",
       "min            0.000000      0.000000                    0.000000   \n",
       "25%            0.000000      0.000000                    0.000000   \n",
       "50%            0.000000      1.000000                    0.000000   \n",
       "75%            0.000000      1.000000                    0.000000   \n",
       "max            2.000000      2.000000                    1.000000   \n",
       "\n",
       "       Mailing_Address_County_Code  Physical_Address_County_Code  \\\n",
       "count                 30597.000000                  12621.000000   \n",
       "mean                    100.837402                    100.236590   \n",
       "std                       4.171784                     16.185037   \n",
       "min                       0.000000                      0.000000   \n",
       "25%                     101.000000                    101.000000   \n",
       "50%                     101.000000                    101.000000   \n",
       "75%                     101.000000                    101.000000   \n",
       "max                     227.000000                    246.000000   \n",
       "\n",
       "       Related_License_Number  Related_License_Start_Date  Agency_Identifier  \n",
       "count            1.644900e+04                1.562300e+04       3.059700e+04  \n",
       "mean             3.619656e+06                2.017406e+07       9.406043e+08  \n",
       "std              4.116078e+06                3.022684e+04       6.703298e+07  \n",
       "min              2.911400e+04                1.991123e+07       5.450000e+02  \n",
       "25%              4.603730e+05                2.016061e+07       8.811661e+08  \n",
       "50%              5.885690e+05                2.018122e+07       9.900090e+08  \n",
       "75%              9.003652e+06                2.020013e+07       1.000056e+09  \n",
       "max              9.009945e+06                2.020102e+07       1.000199e+09  "
      ],
      "text/html": "<div>\n<style scoped>\n    .dataframe tbody tr th:only-of-type {\n        vertical-align: middle;\n    }\n\n    .dataframe tbody tr th {\n        vertical-align: top;\n    }\n\n    .dataframe thead th {\n        text-align: right;\n    }\n</style>\n<table border=\"1\" class=\"dataframe\">\n  <thead>\n    <tr style=\"text-align: right;\">\n      <th></th>\n      <th>License_Status</th>\n      <th>Original_License_Date</th>\n      <th>License Expiration_Date</th>\n      <th>Education_Status</th>\n      <th>MCE_Status</th>\n      <th>Designated_Supervisor_Flag</th>\n      <th>Mailing_Address_County_Code</th>\n      <th>Physical_Address_County_Code</th>\n      <th>Related_License_Number</th>\n      <th>Related_License_Start_Date</th>\n      <th>Agency_Identifier</th>\n    </tr>\n  </thead>\n  <tbody>\n    <tr>\n      <th>count</th>\n      <td>30597.000000</td>\n      <td>3.059400e+04</td>\n      <td>3.059700e+04</td>\n      <td>30597.000000</td>\n      <td>30597.000000</td>\n      <td>30597.000000</td>\n      <td>30597.000000</td>\n      <td>12621.000000</td>\n      <td>1.644900e+04</td>\n      <td>1.562300e+04</td>\n      <td>3.059700e+04</td>\n    </tr>\n    <tr>\n      <th>mean</th>\n      <td>25.544792</td>\n      <td>2.007608e+07</td>\n      <td>2.020663e+07</td>\n      <td>0.223192</td>\n      <td>0.740824</td>\n      <td>0.009968</td>\n      <td>100.837402</td>\n      <td>100.236590</td>\n      <td>3.619656e+06</td>\n      <td>2.017406e+07</td>\n      <td>9.406043e+08</td>\n    </tr>\n    <tr>\n      <th>std</th>\n      <td>10.367196</td>\n      <td>1.071628e+05</td>\n      <td>1.613059e+04</td>\n      <td>0.428692</td>\n      <td>0.503249</td>\n      <td>0.099344</td>\n      <td>4.171784</td>\n      <td>16.185037</td>\n      <td>4.116078e+06</td>\n      <td>3.022684e+04</td>\n      <td>6.703298e+07</td>\n    </tr>\n    <tr>\n      <th>min</th>\n      <td>20.000000</td>\n      <td>1.957010e+07</td>\n      <td>2.011023e+07</td>\n      <td>0.000000</td>\n      <td>0.000000</td>\n      <td>0.000000</td>\n      <td>0.000000</td>\n      <td>0.000000</td>\n      <td>2.911400e+04</td>\n      <td>1.991123e+07</td>\n      <td>5.450000e+02</td>\n    </tr>\n    <tr>\n      <th>25%</th>\n      <td>20.000000</td>\n      <td>2.001102e+07</td>\n      <td>2.020113e+07</td>\n      <td>0.000000</td>\n      <td>0.000000</td>\n      <td>0.000000</td>\n      <td>101.000000</td>\n      <td>101.000000</td>\n      <td>4.603730e+05</td>\n      <td>2.016061e+07</td>\n      <td>8.811661e+08</td>\n    </tr>\n    <tr>\n      <th>50%</th>\n      <td>20.000000</td>\n      <td>2.011081e+07</td>\n      <td>2.021073e+07</td>\n      <td>0.000000</td>\n      <td>1.000000</td>\n      <td>0.000000</td>\n      <td>101.000000</td>\n      <td>101.000000</td>\n      <td>5.885690e+05</td>\n      <td>2.018122e+07</td>\n      <td>9.900090e+08</td>\n    </tr>\n    <tr>\n      <th>75%</th>\n      <td>21.000000</td>\n      <td>2.016112e+07</td>\n      <td>2.022033e+07</td>\n      <td>0.000000</td>\n      <td>1.000000</td>\n      <td>0.000000</td>\n      <td>101.000000</td>\n      <td>101.000000</td>\n      <td>9.003652e+06</td>\n      <td>2.020013e+07</td>\n      <td>1.000056e+09</td>\n    </tr>\n    <tr>\n      <th>max</th>\n      <td>80.000000</td>\n      <td>2.020101e+07</td>\n      <td>2.024063e+07</td>\n      <td>2.000000</td>\n      <td>2.000000</td>\n      <td>1.000000</td>\n      <td>227.000000</td>\n      <td>246.000000</td>\n      <td>9.009945e+06</td>\n      <td>2.020102e+07</td>\n      <td>1.000199e+09</td>\n    </tr>\n  </tbody>\n</table>\n</div>"
     },
     "metadata": {},
     "execution_count": 5
    }
   ],
   "source": [
    "df.describe()"
   ]
  },
  {
   "cell_type": "code",
   "execution_count": null,
   "metadata": {},
   "outputs": [],
   "source": []
  }
 ]
}